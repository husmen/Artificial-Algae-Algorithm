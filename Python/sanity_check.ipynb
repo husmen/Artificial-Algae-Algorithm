{
 "cells": [
  {
   "cell_type": "code",
   "execution_count": 1,
   "metadata": {},
   "outputs": [],
   "source": [
    "import numpy as np\n",
    "from TestFunctions import FnList, FnParams"
   ]
  },
  {
   "cell_type": "code",
   "execution_count": 2,
   "metadata": {},
   "outputs": [
    {
     "name": "stdout",
     "output_type": "stream",
     "text": [
      "F02 Rosenbrock -5 10\n"
     ]
    }
   ],
   "source": [
    "FN = FnList[1]\n",
    "Name = FnParams[FN.__name__][0]\n",
    "LB = FnParams[FN.__name__][1]\n",
    "UB = FnParams[FN.__name__][2]\n",
    "print(FN.__name__, Name, LB, UB)"
   ]
  },
  {
   "cell_type": "code",
   "execution_count": 3,
   "metadata": {},
   "outputs": [
    {
     "data": {
      "text/plain": [
       "array([[ 3.15975907, -3.47326062,  1.38393169,  5.53293908,  9.39600008],\n",
       "       [-1.73764067,  0.48381107, -2.10104265,  9.8804283 ,  7.19069264],\n",
       "       [ 3.46742205,  9.96900772,  1.52760724, -2.46028833, -2.71387693],\n",
       "       [-1.17392652,  6.65192445,  2.41762527, -1.94311616,  0.25029259],\n",
       "       [ 3.233564  ,  5.64215464,  3.5213372 ,  9.57135686,  5.32333284],\n",
       "       [-1.57074233,  2.00796089,  0.02248922, -0.97820772,  5.73412658],\n",
       "       [ 9.5185373 , -4.08350344, -0.26095629, -0.69885079,  9.28317121],\n",
       "       [ 0.56050392,  1.83353339,  6.74604174,  6.61339135, -4.81375947],\n",
       "       [-2.80256954,  7.57548485, -4.97292076,  8.60570123,  9.46539853],\n",
       "       [-0.5390488 ,  0.71126431,  7.24151277,  2.34557793,  0.97653539]])"
      ]
     },
     "execution_count": 3,
     "metadata": {},
     "output_type": "execute_result"
    }
   ],
   "source": [
    "x = LB + (UB - LB) * np.random.rand(10, 5)\n",
    "x"
   ]
  },
  {
   "cell_type": "code",
   "execution_count": 4,
   "metadata": {
    "scrolled": true
   },
   "outputs": [
    {
     "data": {
      "text/plain": [
       "array([ 75887.39059457, 822069.95436332, 968035.54009717, 185115.70155861,\n",
       "       827937.74829721,   4019.11612531, 933124.09659603, 388446.08729245,\n",
       "       832267.81343814, 257585.68805573])"
      ]
     },
     "execution_count": 4,
     "metadata": {},
     "output_type": "execute_result"
    }
   ],
   "source": [
    "y = FN(x)\n",
    "y"
   ]
  },
  {
   "cell_type": "code",
   "execution_count": null,
   "metadata": {},
   "outputs": [],
   "source": []
  }
 ],
 "metadata": {
  "kernelspec": {
   "display_name": "Python 3",
   "language": "python",
   "name": "python3"
  },
  "language_info": {
   "codemirror_mode": {
    "name": "ipython",
    "version": 3
   },
   "file_extension": ".py",
   "mimetype": "text/x-python",
   "name": "python",
   "nbconvert_exporter": "python",
   "pygments_lexer": "ipython3",
   "version": "3.7.3"
  }
 },
 "nbformat": 4,
 "nbformat_minor": 2
}
